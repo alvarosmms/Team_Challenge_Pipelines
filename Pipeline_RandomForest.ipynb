{
 "cells": [
  {
   "cell_type": "code",
   "execution_count": 7,
   "metadata": {},
   "outputs": [],
   "source": [
    "import pandas as pd\n",
    "import numpy as np\n",
    "from sklearn.preprocessing import LabelEncoder\n",
    "from sklearn.ensemble import RandomForestClassifier\n",
    "from sklearn.model_selection import train_test_split\n",
    "from sklearn.metrics import accuracy_score, classification_report\n",
    "\n",
    "def classification_pipeline(csv_file, target_column, test_size=0.2, random_state=42):\n",
    "\n",
    "    ### Carga del dataset\n",
    "    df = pd.read_csv(csv_file)\n",
    "\n",
    "    ### Quitamos columnas del tipo ID o similares\n",
    "    id_cols = [col for col in df.columns if 'id' in col.lower()]\n",
    "    df = df.drop(columns=id_cols, errors='ignore')\n",
    "\n",
    "    ### Tratamiento de datos nulos o faltantes\n",
    "    ### Para numericas usmos la mediana\n",
    "    num_cols = df.select_dtypes(include=['int64', 'float64']).columns.tolist()\n",
    "    for col in num_cols:\n",
    "        df[col].fillna(df[col].median(), inplace=True)\n",
    "\n",
    "    ### Para categoricas utilizamos la moda\n",
    "    cat_cols = df.select_dtypes(include=['object']).columns.tolist()\n",
    "    for col in cat_cols:\n",
    "        df[col].fillna(df[col].mode()[0], inplace=True)\n",
    "\n",
    "    ### Convertir categoricas a numericas con Label Encoding\n",
    "    label_encoders = {}\n",
    "    for col in cat_cols:\n",
    "        le = LabelEncoder()\n",
    "        df[col] = le.fit_transform(df[col])\n",
    "        label_encoders[col] = le  ### Gardamos os encoders por si hace falta decodificar\n",
    "\n",
    "    ### Separar caracteristicass (X) y objetivo (y)\n",
    "    X = df.drop(columns=[target_column])  \n",
    "    y = df[target_column] \n",
    "\n",
    "    ### Dividir el dataset en train y test\n",
    "    X_train, X_test, y_train, y_test = train_test_split(X, y, test_size=test_size, random_state=random_state)\n",
    "\n",
    "    ### Entrenar un modelo de Random Forest\n",
    "    rf_model = RandomForestClassifier(n_estimators=100, random_state=random_state)\n",
    "    rf_model.fit(X_train, y_train)\n",
    "\n",
    "   ### Predicciones y evaluacion de modelo\n",
    "    y_pred = rf_model.predict(X_test)\n",
    "    accuracy = accuracy_score(y_test, y_pred)\n",
    "    classification_rep = classification_report(y_test, y_pred)\n",
    "\n",
    "    print(f' Precisión del modelo: {accuracy:.4f}')\n",
    "    print('Reporte de Clasificación:')\n",
    "    print(classification_rep)\n",
    "\n",
    "    return rf_model, accuracy, classification_rep\n",
    "\n"
   ]
  },
  {
   "cell_type": "code",
   "execution_count": 9,
   "metadata": {},
   "outputs": [
    {
     "name": "stderr",
     "output_type": "stream",
     "text": [
      "C:\\Users\\Xián\\AppData\\Local\\Temp\\ipykernel_14224\\2616763894.py:21: FutureWarning: A value is trying to be set on a copy of a DataFrame or Series through chained assignment using an inplace method.\n",
      "The behavior will change in pandas 3.0. This inplace method will never work because the intermediate object on which we are setting values always behaves as a copy.\n",
      "\n",
      "For example, when doing 'df[col].method(value, inplace=True)', try using 'df.method({col: value}, inplace=True)' or df[col] = df[col].method(value) instead, to perform the operation inplace on the original object.\n",
      "\n",
      "\n",
      "  df[col].fillna(df[col].median(), inplace=True)\n",
      "C:\\Users\\Xián\\AppData\\Local\\Temp\\ipykernel_14224\\2616763894.py:21: FutureWarning: A value is trying to be set on a copy of a DataFrame or Series through chained assignment using an inplace method.\n",
      "The behavior will change in pandas 3.0. This inplace method will never work because the intermediate object on which we are setting values always behaves as a copy.\n",
      "\n",
      "For example, when doing 'df[col].method(value, inplace=True)', try using 'df.method({col: value}, inplace=True)' or df[col] = df[col].method(value) instead, to perform the operation inplace on the original object.\n",
      "\n",
      "\n",
      "  df[col].fillna(df[col].median(), inplace=True)\n",
      "C:\\Users\\Xián\\AppData\\Local\\Temp\\ipykernel_14224\\2616763894.py:21: FutureWarning: A value is trying to be set on a copy of a DataFrame or Series through chained assignment using an inplace method.\n",
      "The behavior will change in pandas 3.0. This inplace method will never work because the intermediate object on which we are setting values always behaves as a copy.\n",
      "\n",
      "For example, when doing 'df[col].method(value, inplace=True)', try using 'df.method({col: value}, inplace=True)' or df[col] = df[col].method(value) instead, to perform the operation inplace on the original object.\n",
      "\n",
      "\n",
      "  df[col].fillna(df[col].median(), inplace=True)\n",
      "C:\\Users\\Xián\\AppData\\Local\\Temp\\ipykernel_14224\\2616763894.py:26: FutureWarning: A value is trying to be set on a copy of a DataFrame or Series through chained assignment using an inplace method.\n",
      "The behavior will change in pandas 3.0. This inplace method will never work because the intermediate object on which we are setting values always behaves as a copy.\n",
      "\n",
      "For example, when doing 'df[col].method(value, inplace=True)', try using 'df.method({col: value}, inplace=True)' or df[col] = df[col].method(value) instead, to perform the operation inplace on the original object.\n",
      "\n",
      "\n",
      "  df[col].fillna(df[col].mode()[0], inplace=True)\n"
     ]
    },
    {
     "name": "stdout",
     "output_type": "stream",
     "text": [
      " Precisión del modelo: 0.4851\n",
      "Reporte de Clasificación:\n",
      "              precision    recall  f1-score   support\n",
      "\n",
      "           0       0.38      0.37      0.38       391\n",
      "           1       0.37      0.34      0.36       369\n",
      "           2       0.51      0.52      0.51       380\n",
      "           3       0.64      0.66      0.65       474\n",
      "\n",
      "    accuracy                           0.49      1614\n",
      "   macro avg       0.47      0.47      0.47      1614\n",
      "weighted avg       0.48      0.49      0.48      1614\n",
      "\n"
     ]
    }
   ],
   "source": [
    "model, acc, report = classification_pipeline('Train.csv', target_column='Segmentation')"
   ]
  }
 ],
 "metadata": {
  "kernelspec": {
   "display_name": "Python 3",
   "language": "python",
   "name": "python3"
  },
  "language_info": {
   "codemirror_mode": {
    "name": "ipython",
    "version": 3
   },
   "file_extension": ".py",
   "mimetype": "text/x-python",
   "name": "python",
   "nbconvert_exporter": "python",
   "pygments_lexer": "ipython3",
   "version": "3.11.9"
  }
 },
 "nbformat": 4,
 "nbformat_minor": 2
}
